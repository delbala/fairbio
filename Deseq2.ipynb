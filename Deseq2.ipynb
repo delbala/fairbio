{
 "cells": [
  {
   "cell_type": "markdown",
   "id": "e3aa95d2-7837-4d38-ab5f-a03c2e0fe20e",
   "metadata": {},
   "source": [
    "# My R notebook\n",
    "## Load library"
   ]
  },
  {
   "cell_type": "code",
   "execution_count": 7,
   "id": "1ee8a54e-eb8c-4c28-b8e3-e05a706ff501",
   "metadata": {},
   "outputs": [],
   "source": [
    "library(DESeq2)"
   ]
  },
  {
   "cell_type": "markdown",
   "id": "1c2f3c7b-bb1a-4224-93bf-aac5fc044ea4",
   "metadata": {},
   "source": [
    "## Read data"
   ]
  },
  {
   "cell_type": "code",
   "execution_count": 8,
   "id": "0cc1eea4-5072-4914-bde6-99caa74615b0",
   "metadata": {},
   "outputs": [
    {
     "data": {
      "text/html": [
       "<table class=\"dataframe\">\n",
       "<caption>A data.frame: 6 × 6</caption>\n",
       "<thead>\n",
       "\t<tr><th></th><th scope=col>condition1_1</th><th scope=col>condition1_2</th><th scope=col>condition1_3</th><th scope=col>condition2_1</th><th scope=col>condition2_2</th><th scope=col>condition2_3</th></tr>\n",
       "\t<tr><th></th><th scope=col>&lt;int&gt;</th><th scope=col>&lt;int&gt;</th><th scope=col>&lt;int&gt;</th><th scope=col>&lt;int&gt;</th><th scope=col>&lt;int&gt;</th><th scope=col>&lt;int&gt;</th></tr>\n",
       "</thead>\n",
       "<tbody>\n",
       "\t<tr><th scope=row>ostta01g00010</th><td>11</td><td>10</td><td>10</td><td> 1</td><td> 4</td><td> 7</td></tr>\n",
       "\t<tr><th scope=row>ostta01g00020</th><td> 3</td><td> 7</td><td>10</td><td> 6</td><td> 7</td><td> 5</td></tr>\n",
       "\t<tr><th scope=row>ostta01g00030</th><td> 0</td><td> 1</td><td> 1</td><td> 2</td><td> 0</td><td> 2</td></tr>\n",
       "\t<tr><th scope=row>ostta01g00040</th><td>20</td><td>13</td><td>17</td><td>23</td><td>16</td><td>12</td></tr>\n",
       "\t<tr><th scope=row>ostta01g00050</th><td> 5</td><td>18</td><td> 8</td><td>12</td><td>13</td><td>11</td></tr>\n",
       "\t<tr><th scope=row>ostta01g00060</th><td> 4</td><td> 2</td><td> 4</td><td> 5</td><td> 2</td><td> 7</td></tr>\n",
       "</tbody>\n",
       "</table>\n"
      ],
      "text/latex": [
       "A data.frame: 6 × 6\n",
       "\\begin{tabular}{r|llllll}\n",
       "  & condition1\\_1 & condition1\\_2 & condition1\\_3 & condition2\\_1 & condition2\\_2 & condition2\\_3\\\\\n",
       "  & <int> & <int> & <int> & <int> & <int> & <int>\\\\\n",
       "\\hline\n",
       "\tostta01g00010 & 11 & 10 & 10 &  1 &  4 &  7\\\\\n",
       "\tostta01g00020 &  3 &  7 & 10 &  6 &  7 &  5\\\\\n",
       "\tostta01g00030 &  0 &  1 &  1 &  2 &  0 &  2\\\\\n",
       "\tostta01g00040 & 20 & 13 & 17 & 23 & 16 & 12\\\\\n",
       "\tostta01g00050 &  5 & 18 &  8 & 12 & 13 & 11\\\\\n",
       "\tostta01g00060 &  4 &  2 &  4 &  5 &  2 &  7\\\\\n",
       "\\end{tabular}\n"
      ],
      "text/markdown": [
       "\n",
       "A data.frame: 6 × 6\n",
       "\n",
       "| <!--/--> | condition1_1 &lt;int&gt; | condition1_2 &lt;int&gt; | condition1_3 &lt;int&gt; | condition2_1 &lt;int&gt; | condition2_2 &lt;int&gt; | condition2_3 &lt;int&gt; |\n",
       "|---|---|---|---|---|---|---|\n",
       "| ostta01g00010 | 11 | 10 | 10 |  1 |  4 |  7 |\n",
       "| ostta01g00020 |  3 |  7 | 10 |  6 |  7 |  5 |\n",
       "| ostta01g00030 |  0 |  1 |  1 |  2 |  0 |  2 |\n",
       "| ostta01g00040 | 20 | 13 | 17 | 23 | 16 | 12 |\n",
       "| ostta01g00050 |  5 | 18 |  8 | 12 | 13 | 11 |\n",
       "| ostta01g00060 |  4 |  2 |  4 |  5 |  2 |  7 |\n",
       "\n"
      ],
      "text/plain": [
       "              condition1_1 condition1_2 condition1_3 condition2_1 condition2_2\n",
       "ostta01g00010 11           10           10            1            4          \n",
       "ostta01g00020  3            7           10            6            7          \n",
       "ostta01g00030  0            1            1            2            0          \n",
       "ostta01g00040 20           13           17           23           16          \n",
       "ostta01g00050  5           18            8           12           13          \n",
       "ostta01g00060  4            2            4            5            2          \n",
       "              condition2_3\n",
       "ostta01g00010  7          \n",
       "ostta01g00020  5          \n",
       "ostta01g00030  2          \n",
       "ostta01g00040 12          \n",
       "ostta01g00050 11          \n",
       "ostta01g00060  7          "
      ]
     },
     "metadata": {},
     "output_type": "display_data"
    }
   ],
   "source": [
    "cts <- read.table(\"counts.txt\", sep=\"\\t\",row.names=1)\n",
    "colnames(cts) = c(paste0(\"condition1_\",1:3),paste0(\"condition2_\",1:3))\n",
    "head(cts)"
   ]
  },
  {
   "cell_type": "markdown",
   "id": "90f284e6-6cf2-43ff-afea-80648230700e",
   "metadata": {},
   "source": [
    "## Experimental data preparation"
   ]
  },
  {
   "cell_type": "code",
   "execution_count": 6,
   "id": "eb409b2b-fac1-491f-973b-abaabadf7b45",
   "metadata": {},
   "outputs": [
    {
     "data": {
      "text/html": [
       "<table class=\"dataframe\">\n",
       "<caption>A data.frame: 6 × 1</caption>\n",
       "<thead>\n",
       "\t<tr><th></th><th scope=col>condition</th></tr>\n",
       "\t<tr><th></th><th scope=col>&lt;chr&gt;</th></tr>\n",
       "</thead>\n",
       "<tbody>\n",
       "\t<tr><th scope=row>condition1_1</th><td>condition1</td></tr>\n",
       "\t<tr><th scope=row>condition1_2</th><td>condition1</td></tr>\n",
       "\t<tr><th scope=row>condition1_3</th><td>condition1</td></tr>\n",
       "\t<tr><th scope=row>condition2_1</th><td>condition2</td></tr>\n",
       "\t<tr><th scope=row>condition2_2</th><td>condition2</td></tr>\n",
       "\t<tr><th scope=row>condition2_3</th><td>condition2</td></tr>\n",
       "</tbody>\n",
       "</table>\n"
      ],
      "text/latex": [
       "A data.frame: 6 × 1\n",
       "\\begin{tabular}{r|l}\n",
       "  & condition\\\\\n",
       "  & <chr>\\\\\n",
       "\\hline\n",
       "\tcondition1\\_1 & condition1\\\\\n",
       "\tcondition1\\_2 & condition1\\\\\n",
       "\tcondition1\\_3 & condition1\\\\\n",
       "\tcondition2\\_1 & condition2\\\\\n",
       "\tcondition2\\_2 & condition2\\\\\n",
       "\tcondition2\\_3 & condition2\\\\\n",
       "\\end{tabular}\n"
      ],
      "text/markdown": [
       "\n",
       "A data.frame: 6 × 1\n",
       "\n",
       "| <!--/--> | condition &lt;chr&gt; |\n",
       "|---|---|\n",
       "| condition1_1 | condition1 |\n",
       "| condition1_2 | condition1 |\n",
       "| condition1_3 | condition1 |\n",
       "| condition2_1 | condition2 |\n",
       "| condition2_2 | condition2 |\n",
       "| condition2_3 | condition2 |\n",
       "\n"
      ],
      "text/plain": [
       "             condition \n",
       "condition1_1 condition1\n",
       "condition1_2 condition1\n",
       "condition1_3 condition1\n",
       "condition2_1 condition2\n",
       "condition2_2 condition2\n",
       "condition2_3 condition2"
      ]
     },
     "metadata": {},
     "output_type": "display_data"
    }
   ],
   "source": [
    "coldata = cbind.data.frame(condition= c(rep(\"condition1\", 3),rep(\"condition2\", 3)))\n",
    "rownames(coldata) = c(paste0(\"condition1_\",1:3),paste0(\"condition2_\",1:3))\n",
    "head(coldata)"
   ]
  },
  {
   "cell_type": "markdown",
   "id": "b52684f4-7c9b-43f4-b3b3-a8d10fe31895",
   "metadata": {},
   "source": [
    "## Deseq2"
   ]
  },
  {
   "cell_type": "code",
   "execution_count": null,
   "id": "4116039e-aaed-4545-b3cc-81155116cc8e",
   "metadata": {},
   "outputs": [],
   "source": [
    "dds <- DESeqDataSetFromMatrix(countData = cts,\n",
    "                              colData = coldata ,\n",
    "                              design= ~ condition)\n",
    "dds <- DESeq(dds)\n",
    "resultsNames(dds) # lists the coefficients"
   ]
  },
  {
   "cell_type": "markdown",
   "id": "8dc8d18c-59d8-4a13-a5fe-aff4993973cb",
   "metadata": {},
   "source": [
    "## Get results"
   ]
  },
  {
   "cell_type": "code",
   "execution_count": null,
   "id": "25a03159-052e-4aeb-ab54-a68876d43926",
   "metadata": {},
   "outputs": [],
   "source": [
    "res <- results(dds, name=\"condition_condition2_vs_condition1\")\n",
    "res"
   ]
  },
  {
   "cell_type": "markdown",
   "id": "efca73a4-b237-436a-8ceb-cebe57d9e547",
   "metadata": {},
   "source": [
    "## Display results"
   ]
  },
  {
   "cell_type": "code",
   "execution_count": null,
   "id": "c5f2e21f-6541-4ac8-9617-4ccff01fa16d",
   "metadata": {},
   "outputs": [],
   "source": [
    "plotMA(res, ylim=c(-2,2))"
   ]
  },
  {
   "cell_type": "markdown",
   "id": "8a6dab37-b0d1-41cb-ac81-420270b00319",
   "metadata": {},
   "source": [
    "## Export plot"
   ]
  },
  {
   "cell_type": "code",
   "execution_count": null,
   "id": "c34035f2-68ab-40e7-9b67-8d7ee0b707cd",
   "metadata": {},
   "outputs": [],
   "source": [
    "png(file = \"deseq2_demo.png\", width = 800, height = 700)\n",
    "plotMA(res, ylim=c(-2,2))\n",
    "dev.off()"
   ]
  },
  {
   "cell_type": "markdown",
   "id": "c6a4e8a1-6e12-457d-a569-07d2ea3ce083",
   "metadata": {},
   "source": [
    "## Export Data"
   ]
  },
  {
   "cell_type": "code",
   "execution_count": null,
   "id": "f8476294-43a7-42a6-97f3-4ca5c6fcaa9c",
   "metadata": {},
   "outputs": [],
   "source": [
    "write.table(res,\"deseq2_demo.tsv\", quote=F, sep=\"\\t\", col.names=T)"
   ]
  }
 ],
 "metadata": {
  "kernelspec": {
   "display_name": "R 4.2.3",
   "language": "R",
   "name": "r-4.2.3"
  },
  "language_info": {
   "codemirror_mode": "r",
   "file_extension": ".r",
   "mimetype": "text/x-r-source",
   "name": "R",
   "pygments_lexer": "r",
   "version": "4.2.3"
  }
 },
 "nbformat": 4,
 "nbformat_minor": 5
}
